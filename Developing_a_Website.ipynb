sentence = "Learn Python by Developing a Website"
words = sentence.split()
result = "*".join(words)

print(result)
