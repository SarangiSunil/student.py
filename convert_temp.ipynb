def convert_temp(temp, unit):
    if unit == 'C':
        f = (temp * 9/5) + 32
        return f
    elif unit == 'F':
        c = (temp - 32) * 5/9
        return c
    else:
        return "Invalid unit. Enter either 'C' for Celsius or 'F' for Fahrenheit."

temp = float(input("Enter temperature: "))
unit = input("Enter unit (C or F): ")

result = convert_temp(temp, unit)
print("Temperature in", ('Celsius' if unit == 'F' else 'Fahrenheit'), ":", result)
